{
 "cells": [
  {
   "cell_type": "code",
   "execution_count": 3,
   "metadata": {
    "collapsed": true,
    "pycharm": {
     "name": "#%%\n"
    }
   },
   "outputs": [
    {
     "ename": "TypeError",
     "evalue": "'numpy.float64' object cannot be interpreted as an integer",
     "output_type": "error",
     "traceback": [
      "\u001B[0;31m---------------------------------------------------------------------------\u001B[0m",
      "\u001B[0;31mTypeError\u001B[0m                                 Traceback (most recent call last)",
      "Input \u001B[0;32mIn [3]\u001B[0m, in \u001B[0;36m<module>\u001B[0;34m\u001B[0m\n\u001B[1;32m     11\u001B[0m batch_sizes \u001B[38;5;241m=\u001B[39m np\u001B[38;5;241m.\u001B[39mlinspace(\u001B[38;5;241m1\u001B[39m, count_points, count_points)\n\u001B[1;32m     12\u001B[0m w \u001B[38;5;241m=\u001B[39m np\u001B[38;5;241m.\u001B[39marray([\u001B[38;5;241m0\u001B[39m] \u001B[38;5;241m*\u001B[39m (graphic\u001B[38;5;241m.\u001B[39mlinear\u001B[38;5;241m.\u001B[39mn \u001B[38;5;241m+\u001B[39m \u001B[38;5;241m1\u001B[39m))\n\u001B[0;32m---> 13\u001B[0m epoches \u001B[38;5;241m=\u001B[39m np\u001B[38;5;241m.\u001B[39marray([gradient(graphic, \u001B[38;5;241m0.1\u001B[39m, w, AbsoluteLoss(), \u001B[38;5;241m1000\u001B[39m, batch_size, StopLossCriteria(), \u001B[38;5;241m1e-4\u001B[39m)\n\u001B[1;32m     14\u001B[0m                     \u001B[38;5;28;01mfor\u001B[39;00m batch_size \u001B[38;5;129;01min\u001B[39;00m batch_sizes])\n\u001B[1;32m     15\u001B[0m plt\u001B[38;5;241m.\u001B[39mplot(batch_sizes, epoches)\n",
      "Input \u001B[0;32mIn [3]\u001B[0m, in \u001B[0;36m<listcomp>\u001B[0;34m(.0)\u001B[0m\n\u001B[1;32m     11\u001B[0m batch_sizes \u001B[38;5;241m=\u001B[39m np\u001B[38;5;241m.\u001B[39mlinspace(\u001B[38;5;241m1\u001B[39m, count_points, count_points)\n\u001B[1;32m     12\u001B[0m w \u001B[38;5;241m=\u001B[39m np\u001B[38;5;241m.\u001B[39marray([\u001B[38;5;241m0\u001B[39m] \u001B[38;5;241m*\u001B[39m (graphic\u001B[38;5;241m.\u001B[39mlinear\u001B[38;5;241m.\u001B[39mn \u001B[38;5;241m+\u001B[39m \u001B[38;5;241m1\u001B[39m))\n\u001B[0;32m---> 13\u001B[0m epoches \u001B[38;5;241m=\u001B[39m np\u001B[38;5;241m.\u001B[39marray([\u001B[43mgradient\u001B[49m\u001B[43m(\u001B[49m\u001B[43mgraphic\u001B[49m\u001B[43m,\u001B[49m\u001B[43m \u001B[49m\u001B[38;5;241;43m0.1\u001B[39;49m\u001B[43m,\u001B[49m\u001B[43m \u001B[49m\u001B[43mw\u001B[49m\u001B[43m,\u001B[49m\u001B[43m \u001B[49m\u001B[43mAbsoluteLoss\u001B[49m\u001B[43m(\u001B[49m\u001B[43m)\u001B[49m\u001B[43m,\u001B[49m\u001B[43m \u001B[49m\u001B[38;5;241;43m1000\u001B[39;49m\u001B[43m,\u001B[49m\u001B[43m \u001B[49m\u001B[43mbatch_size\u001B[49m\u001B[43m,\u001B[49m\u001B[43m \u001B[49m\u001B[43mStopLossCriteria\u001B[49m\u001B[43m(\u001B[49m\u001B[43m)\u001B[49m\u001B[43m,\u001B[49m\u001B[43m \u001B[49m\u001B[38;5;241;43m1e-4\u001B[39;49m\u001B[43m)\u001B[49m\n\u001B[1;32m     14\u001B[0m                     \u001B[38;5;28;01mfor\u001B[39;00m batch_size \u001B[38;5;129;01min\u001B[39;00m batch_sizes])\n\u001B[1;32m     15\u001B[0m plt\u001B[38;5;241m.\u001B[39mplot(batch_sizes, epoches)\n",
      "File \u001B[0;32m~/Vl/Projects/University/meth-opt/meth-opt-2/gradient.py:27\u001B[0m, in \u001B[0;36mgradient\u001B[0;34m(graphic, learning_rate, w, loss, epoches, batch_size, criteria, eps)\u001B[0m\n\u001B[1;32m     25\u001B[0m graphic\u001B[38;5;241m.\u001B[39mpoints_x \u001B[38;5;241m=\u001B[39m np\u001B[38;5;241m.\u001B[39marray([p[\u001B[38;5;241m0\u001B[39m] \u001B[38;5;28;01mfor\u001B[39;00m p \u001B[38;5;129;01min\u001B[39;00m temp])\n\u001B[1;32m     26\u001B[0m graphic\u001B[38;5;241m.\u001B[39mpoints_y \u001B[38;5;241m=\u001B[39m np\u001B[38;5;241m.\u001B[39marray([p[\u001B[38;5;241m1\u001B[39m] \u001B[38;5;28;01mfor\u001B[39;00m p \u001B[38;5;129;01min\u001B[39;00m temp])\n\u001B[0;32m---> 27\u001B[0m \u001B[38;5;28;01mfor\u001B[39;00m batch_index \u001B[38;5;129;01min\u001B[39;00m \u001B[38;5;28;43mrange\u001B[39;49m\u001B[43m(\u001B[49m\u001B[43mbatch_number\u001B[49m\u001B[43m)\u001B[49m:\n\u001B[1;32m     28\u001B[0m     indexes \u001B[38;5;241m=\u001B[39m [i \u001B[38;5;28;01mfor\u001B[39;00m i \u001B[38;5;129;01min\u001B[39;00m \u001B[38;5;28mrange\u001B[39m(batch_index \u001B[38;5;241m*\u001B[39m batch_size, \u001B[38;5;28mmin\u001B[39m(graphic\u001B[38;5;241m.\u001B[39mpoints_x\u001B[38;5;241m.\u001B[39mshape[\u001B[38;5;241m0\u001B[39m], (batch_index \u001B[38;5;241m+\u001B[39m \u001B[38;5;241m1\u001B[39m) \u001B[38;5;241m*\u001B[39m batch_size))]\n\u001B[1;32m     29\u001B[0m     points_x \u001B[38;5;241m=\u001B[39m np\u001B[38;5;241m.\u001B[39marray([graphic\u001B[38;5;241m.\u001B[39mpoints_x[pos] \u001B[38;5;28;01mfor\u001B[39;00m pos \u001B[38;5;129;01min\u001B[39;00m indexes])\n",
      "\u001B[0;31mTypeError\u001B[0m: 'numpy.float64' object cannot be interpreted as an integer"
     ]
    }
   ],
   "source": [
    "from criteria import StopLossCriteria\n",
    "import numpy as np\n",
    "from matplotlib import pyplot as plt\n",
    "\n",
    "from gradient import gradient\n",
    "from graphic import F, Linear, F10d, F3d, G\n",
    "from loss import AbsoluteLoss\n",
    "\n",
    "for graphic in [F(), G(), F3d(), F10d()]:\n",
    "    count_points = graphic.points_x.shape[0]\n",
    "    batch_sizes = [i for i in range(1, count_points + 1)]\n",
    "    w = np.array([0] * (graphic.linear.n + 1))\n",
    "    epoches = np.array([gradient(graphic, 0.1, w, AbsoluteLoss(), 1000, batch_size, StopLossCriteria(), 1e-4)\n",
    "                        for batch_size in batch_sizes])\n",
    "    plt.plot(batch_sizes, epoches)"
   ]
  }
 ],
 "metadata": {
  "kernelspec": {
   "display_name": "Python 3",
   "language": "python",
   "name": "python3"
  },
  "language_info": {
   "codemirror_mode": {
    "name": "ipython",
    "version": 2
   },
   "file_extension": ".py",
   "mimetype": "text/x-python",
   "name": "python",
   "nbconvert_exporter": "python",
   "pygments_lexer": "ipython2",
   "version": "2.7.6"
  }
 },
 "nbformat": 4,
 "nbformat_minor": 0
}